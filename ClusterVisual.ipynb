{
  "nbformat": 4,
  "nbformat_minor": 0,
  "metadata": {
    "colab": {
      "provenance": []
    },
    "kernelspec": {
      "name": "python3",
      "display_name": "Python 3"
    },
    "language_info": {
      "name": "python"
    }
  },
  "cells": [
    {
      "cell_type": "code",
      "source": [
        "import pandas as pd\n",
        "import numpy as np\n",
        "files = ['dataset_0.1.csv',\n",
        "         'dataset_0.3.csv',\n",
        "         'dataset_0.5.csv',\n",
        "         'dataset_1.csv',\n",
        "         'dataset_2.csv',\n",
        "         'dataset_5.csv'\n",
        "        ]\n",
        "\n",
        "ls = {}\n",
        "perc = {}\n",
        "for l in files:\n",
        "\n",
        "  df = pd.read_csv(l)\n",
        "  perc[l] = {}\n",
        "  ls[l] = {}\n",
        "  ls[l]['tot'] = 0\n",
        "  cat = df['supervised'].unique().tolist()\n",
        "  for c in cat:\n",
        "    ls[l][c] = 0\n",
        "    perc[l][c] = 0\n",
        "  sup = df['supervised'].values\n",
        "  for i in range(len(sup)):\n",
        "    ls[l][sup[i]] += 1\n",
        "  for c in cat:\n",
        "    ls[l]['tot'] += ls[l][c]\n",
        "  for c in cat:\n",
        "    perc[l][c] = (ls[l][c]/ls[l]['tot']) * 100\n",
        "\n",
        "for k in ls.keys():\n",
        "  print(f\"For {k} we have :\")\n",
        "  print(ls[k])\n",
        "  print('')\n",
        "  print('Traffic distribution : ')\n",
        "  print(perc[k])\n",
        "  print('')\n",
        "\n",
        "\n",
        "# df = pd.read_csv('dataset_5.csv')\n",
        "# df = df.sample(frac=1)\n",
        "# df = df[df['supervised'] != 'amazon']\n",
        "# print(len(df['supervised']))\n"
      ],
      "metadata": {
        "colab": {
          "base_uri": "https://localhost:8080/"
        },
        "id": "RLLXqy4D24FB",
        "outputId": "8c05da3b-4114-4210-a7ca-0b34f04433e5"
      },
      "execution_count": 10,
      "outputs": [
        {
          "output_type": "stream",
          "name": "stdout",
          "text": [
            "For dataset_0.1.csv we have :\n",
            "{'tot': 18112, 'zoom': 6089, 'youtube': 2004, 'wikipedia': 3237, 'whatsapp': 6782}\n",
            "\n",
            "Traffic distribution : \n",
            "{'zoom': 33.61859540636043, 'youtube': 11.064487632508833, 'wikipedia': 17.872128975265017, 'whatsapp': 37.44478798586572}\n",
            "\n",
            "For dataset_0.3.csv we have :\n",
            "{'tot': 6036, 'zoom': 2029, 'youtube': 668, 'wikipedia': 1079, 'whatsapp': 2260}\n",
            "\n",
            "Traffic distribution : \n",
            "{'zoom': 33.614976805831674, 'youtube': 11.066931742876077, 'wikipedia': 17.87607687210073, 'whatsapp': 37.44201457919152}\n",
            "\n",
            "For dataset_0.5.csv we have :\n",
            "{'tot': 3620, 'zoom': 1217, 'youtube': 400, 'wikipedia': 647, 'whatsapp': 1356}\n",
            "\n",
            "Traffic distribution : \n",
            "{'zoom': 33.61878453038674, 'youtube': 11.049723756906078, 'wikipedia': 17.87292817679558, 'whatsapp': 37.4585635359116}\n",
            "\n",
            "For dataset_1.csv we have :\n",
            "{'tot': 1809, 'zoom': 608, 'youtube': 200, 'wikipedia': 323, 'whatsapp': 678}\n",
            "\n",
            "Traffic distribution : \n",
            "{'zoom': 33.609729132117195, 'youtube': 11.055831951354339, 'wikipedia': 17.855168601437256, 'whatsapp': 37.47927031509121}\n",
            "\n",
            "For dataset_2.csv we have :\n",
            "{'tot': 904, 'zoom': 304, 'youtube': 100, 'wikipedia': 161, 'whatsapp': 339}\n",
            "\n",
            "Traffic distribution : \n",
            "{'zoom': 33.6283185840708, 'youtube': 11.061946902654867, 'wikipedia': 17.809734513274336, 'whatsapp': 37.5}\n",
            "\n",
            "For dataset_5.csv we have :\n",
            "{'tot': 360, 'zoom': 121, 'youtube': 40, 'wikipedia': 64, 'whatsapp': 135}\n",
            "\n",
            "Traffic distribution : \n",
            "{'zoom': 33.611111111111114, 'youtube': 11.11111111111111, 'wikipedia': 17.77777777777778, 'whatsapp': 37.5}\n",
            "\n"
          ]
        }
      ]
    }
  ]
}