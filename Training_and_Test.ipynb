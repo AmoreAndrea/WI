{
  "nbformat": 4,
  "nbformat_minor": 0,
  "metadata": {
    "colab": {
      "provenance": []
    },
    "kernelspec": {
      "name": "python3",
      "display_name": "Python 3"
    },
    "language_info": {
      "name": "python"
    }
  },
  "cells": [
    {
      "cell_type": "code",
      "execution_count": 2,
      "metadata": {
        "id": "knlDJte9mTHo"
      },
      "outputs": [],
      "source": [
        "import pandas as pd\n",
        "import matplotlib.pyplot as plt\n",
        "import numpy as np\n",
        "from sklearn.model_selection import cross_val_score, train_test_split\n",
        "from sklearn.neighbors import KNeighborsClassifier\n",
        "from sklearn.metrics import accuracy_score, ConfusionMatrixDisplay"
      ]
    },
    {
      "cell_type": "markdown",
      "source": [
        "This part is used to perform some tests over the various dataset in order to compare each one's performance with different possible set of parameters. The results will allow us to find out which particular combination is giving us the best results in terms of accuracy."
      ],
      "metadata": {
        "id": "-zCTAze0XUL0"
      }
    },
    {
      "cell_type": "code",
      "source": [
        "\n",
        "files = ['dataset_0.1.csv',\n",
        "         'dataset_0.3.csv',\n",
        "         'dataset_0.5.csv',\n",
        "         'dataset_1.csv',\n",
        "         'dataset_2.csv',\n",
        "         'dataset_5.csv']\n",
        "\n",
        "# All possible features:\n",
        "# 'avg datalen dl'\n",
        "# 'std datalen dl'\n",
        "# 'n_packets dl',\n",
        "# 'avg iat dl',\n",
        "# 'std iat dl',\n",
        "# 'avg datalen ul',\n",
        "# 'std datalen ul',\n",
        "# 'n_packets ul',\n",
        "# 'avg iat ul',\n",
        "# 'std iat ul'\n",
        "\n",
        "# Here it is possible to select different features\n",
        "features = [ 'avg datalen dl', 'std datalen dl', 'avg iat dl', 'std iat dl', 'n_packets dl']\n",
        "\n",
        "metric = 'euclidean'\n",
        "\n",
        "# Here you can set the maximum k for the test --> usually performance reach the maximum when K is between 0 and 25 and tend to decrease as K increases\n",
        "K_max = 50\n",
        "\n",
        "print(f'Params: {features}')\n",
        "print(f'Metric: {metric}')\n",
        "\n",
        "# We use a dict in order to easily check the results we are looking for\n",
        "output = {}\n",
        "\n",
        "for l in files:\n",
        "  output[l] = {}\n",
        "  df = pd.read_csv(l)\n",
        "\n",
        "  # These lines are used to get rid of the rows with 0 and -1 since both mean and std are computed when packets are more than 2\n",
        "  df.drop(df[df['n_packets dl'] < 2].index, inplace = True)\n",
        "  df.drop(df[df['n_packets ul'] < 2].index, inplace = True)\n",
        "\n",
        "  # Select the features\n",
        "  df = df[features + ['supervised']]\n",
        "  df.dropna(inplace = True, subset= features)\n",
        "\n",
        "  # Randomly scramble the dataset\n",
        "  df = df.sample(frac=1)\n",
        "\n",
        "  X = df.drop(['supervised'],axis=1);\n",
        "  Y = df['supervised'];\n",
        "\n",
        "  acc = []\n",
        "  # We repeat for all K up to K_max\n",
        "  for k in range(1,K_max):\n",
        "    knn = KNeighborsClassifier(n_neighbors=k, weights='distance', metric = metric)\n",
        "    # We use cross-validation 10 fold\n",
        "    score = cross_val_score(knn, X, Y, cv = 10)\n",
        "    # We add to the accuracy list the mean of the cross-validations scores\n",
        "    acc.append(np.mean(score))\n",
        "\n",
        "  output[l]['Avg Accuracy'] = sum(acc)/len(acc)\n",
        "  output[l]['Max Accuracy'] = max(acc)\n",
        "  output[l]['Best K'] = np.argmax(acc)+1\n",
        "\n",
        "for k in output.keys():\n",
        "  print(f\"For {k} we have :\")\n",
        "  print(output[k])\n",
        "  print('')"
      ],
      "metadata": {
        "id": "JnRP2bU4mXN-"
      },
      "execution_count": null,
      "outputs": []
    },
    {
      "cell_type": "markdown",
      "source": [
        "The following part is used to see the results graphically and we used it to analyze singularly each dataset's performance"
      ],
      "metadata": {
        "id": "zm_5dvViW4eW"
      }
    },
    {
      "cell_type": "code",
      "source": [
        "# Here it is possible to select some set of parameters, each one will also have a consideration on given performance or a rank\n",
        "\n",
        "# ONLY UL PARAMS:\n",
        "params = ['avg datalen ul','std datalen ul', 'avg iat ul', 'std iat ul', 'n_packets ul'] #SCARCELY PERFORMING\n",
        "# ONLY DL PARAMS:\n",
        "#params = ['avg datalen dl','std datalen dl', 'avg iat dl', 'std iat dl', 'n_packets dl'] #1 BEST PERFORMING\n",
        "# ALL PARAMS :\n",
        "#params = ['avg datalen dl', 'std datalen dl', 'n_packets dl', 'avg iat dl', 'std iat dl', 'avg datalen ul', 'std datalen ul', 'n_packets ul', 'avg iat ul', 'std iat ul'] #2\n",
        "# ONLY DATALEN PARAMS :\n",
        "#params = ['avg datalen dl','std datalen dl','avg datalen ul','std datalen ul'] #3\n",
        "\n",
        "K_max = 50\n",
        "metric = 'euclidean'\n",
        "\n",
        "# Here the dataset can be selected --> on average the dataset_5 is the one giving best performances\n",
        "df = pd.read_csv('dataset_5.csv')\n",
        "\n",
        "\n",
        "df.drop(df[df['n_packets dl'] < 2].index, inplace = True)\n",
        "df.drop(df[df['n_packets ul'] < 2].index, inplace = True)\n",
        "df = df[params + ['supervised']]\n",
        "df.dropna(inplace = True, subset= params)\n",
        "df = df.sample(frac=1)\n",
        "\n",
        "# 10-fold cross-validation : split the df in a training one and in a test one\n",
        "X = df.drop(['supervised'],axis = 1)\n",
        "Y = df['supervised']\n",
        "X_train, X_test, y_train, y_test = train_test_split(X, Y, test_size=0.1)\n",
        "\n",
        "\n",
        "acc = []\n",
        "for k in range(1,K_max):\n",
        "  knn = KNeighborsClassifier(n_neighbors=k, weights='distance', metric = metric)\n",
        "  score = cross_val_score(knn, X, Y, cv = 10)\n",
        "  acc.append(np.mean(score))\n",
        "\n",
        "print(f'Max Accuracy: {max(acc)}')\n",
        "print(f'Avg Accuracy: {sum(acc)/len(acc)}')\n",
        "print(f'Best K: {np.argmax(acc)+1}')\n",
        "\n",
        "# Computing best k\n",
        "bestk = np.argmax(acc)+1\n",
        "\n",
        "# Re-running the algorithm\n",
        "knn = KNeighborsClassifier(n_neighbors=bestk, weights='distance')\n",
        "knn.fit(X_train, y_train)\n",
        "\n",
        "# Compute predictions\n",
        "knn_predict = knn.predict(X_test)\n",
        "\n",
        "# Plot the confusion matrix\n",
        "fig, ax = plt.subplots(figsize=(15, 15));\n",
        "ConfusionMatrixDisplay.from_predictions(knn_predict, y_test, ax=ax, normalize='true');\n",
        "\n",
        "fig = plt.figure();\n",
        "plt.plot(range(1,K_max),acc);\n",
        "plt.grid(visible=True);\n",
        "plt.xlabel('K');\n",
        "plt.ylabel('Accuracy');"
      ],
      "metadata": {
        "collapsed": true,
        "id": "tn4Z_cCrnryc"
      },
      "execution_count": null,
      "outputs": []
    }
  ]
}